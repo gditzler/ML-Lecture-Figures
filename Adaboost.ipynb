{
 "cells": [
  {
   "cell_type": "code",
   "execution_count": null,
   "id": "cd516222-bd7d-46ea-b253-deeaed72468a",
   "metadata": {},
   "outputs": [],
   "source": [
    "import numpy as np\n",
    "import matplotlib.pylab as plt"
   ]
  },
  {
   "cell_type": "code",
   "execution_count": null,
   "id": "f06fea8e-0045-4237-92de-f00eccec8f47",
   "metadata": {},
   "outputs": [],
   "source": [
    "labels = ['eps=0.48', 'eps=0.45', 'eps=0.4', 'eps=0.3']\n",
    "eps = [.48, .45, .4, .3]\n",
    "T = 200\n",
    "\n",
    "plt.figure(dpi=500)\n",
    "for j,e in enumerate(eps): \n",
    "    bound = np.ones(T)\n",
    "    for t in range(T): \n",
    "        bound[t] = 2**(t+1)*np.prod(np.ones(t+1)*np.sqrt(e*(1-e)))\n",
    "    plt.plot([i+1 for i in range(T)], bound, label=labels[j])\n",
    "plt.legend()\n",
    "plt.xlabel('Rounds')\n",
    "plt.ylabel('Adaboost Error Bound')\n",
    "plt.savefig('pdf/ada-error-bound.pdf')"
   ]
  },
  {
   "cell_type": "code",
   "execution_count": null,
   "id": "e0749880-f4fb-49a4-950f-e86f9baf2460",
   "metadata": {},
   "outputs": [],
   "source": []
  },
  {
   "cell_type": "code",
   "execution_count": null,
   "id": "ed6b1ff4-f43b-49a8-a2ae-f3abbe06b6ba",
   "metadata": {},
   "outputs": [],
   "source": []
  }
 ],
 "metadata": {
  "kernelspec": {
   "display_name": "Python 3 (ipykernel)",
   "language": "python",
   "name": "python3"
  },
  "language_info": {
   "codemirror_mode": {
    "name": "ipython",
    "version": 3
   },
   "file_extension": ".py",
   "mimetype": "text/x-python",
   "name": "python",
   "nbconvert_exporter": "python",
   "pygments_lexer": "ipython3",
   "version": "3.9.7"
  }
 },
 "nbformat": 4,
 "nbformat_minor": 5
}
