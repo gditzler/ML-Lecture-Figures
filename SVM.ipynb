{
 "cells": [
  {
   "cell_type": "code",
   "execution_count": null,
   "id": "57181c95-65ed-4ac8-bdf3-107f437a2bac",
   "metadata": {},
   "outputs": [],
   "source": [
    "import numpy as np \n",
    "import matplotlib.pylab as plt"
   ]
  },
  {
   "cell_type": "code",
   "execution_count": null,
   "id": "79cb0821-ebdd-40ce-96a4-985889b5a934",
   "metadata": {},
   "outputs": [],
   "source": [
    "x = np.linspace(-3, 3, 100)\n",
    "\n",
    "def f(z): \n",
    "    return z**2 + 0.5\n",
    "def g(z): \n",
    "    return 1.5*z + 1.2\n",
    "\n",
    "plt.figure(dpi=500)\n",
    "plt.plot(x, f(x), label='Objective')\n",
    "plt.plot(x, g(x), 'r', label='Constraint')\n",
    "plt.plot(-.38, f(-.38), 'go', label='Minimum')\n",
    "plt.plot(0, f(0), 'ro', label='Global Minimum')\n",
    "plt.xlabel('x')\n",
    "plt.legend()\n",
    "plt.savefig('pdf/svm-constained.pdf')"
   ]
  },
  {
   "cell_type": "code",
   "execution_count": null,
   "id": "3d1e37e7-3fc9-44c3-92d0-6ff559527699",
   "metadata": {},
   "outputs": [],
   "source": [
    "n = 2000\n",
    "x = 10*np.random.rand(n, 2) - 5\n",
    "y = 1*(np.linalg.norm(x, axis=1) <= 2)\n",
    "\n",
    "plt.figure(dpi=500)\n",
    "plt.plot(x[y==0, 0], x[y==0, 1], 'ro')\n",
    "plt.plot(x[y==1, 0], x[y==1, 1], 'bo')\n",
    "plt.savefig('pdf/svm-2d-example.pdf')"
   ]
  },
  {
   "cell_type": "code",
   "execution_count": null,
   "id": "ebdd2c00-475e-44b8-a66c-5d4008c7ff68",
   "metadata": {},
   "outputs": [],
   "source": [
    "z = np.vstack((x[:,0]**2, np.sqrt(2)*x[:,0]*x[:,1],x[:,1]**2)).T\n",
    "fig = plt.figure(dpi=500)\n",
    "ax = fig.add_subplot(projection='3d')\n",
    "ax.scatter(z[y==0,0], z[y==0,1], z[y==0,2], 'ro')\n",
    "ax.scatter(z[y==1,0], z[y==1,1], z[y==1,2], 'bo')\n",
    "plt.savefig('pdf/svm-3d-example.pdf')"
   ]
  },
  {
   "cell_type": "code",
   "execution_count": null,
   "id": "40a345c3-d71e-4c1c-a73a-7cee70af3e14",
   "metadata": {},
   "outputs": [],
   "source": []
  },
  {
   "cell_type": "code",
   "execution_count": null,
   "id": "84b6218e-ce3b-4250-9bc6-81f3f3ef5406",
   "metadata": {},
   "outputs": [],
   "source": []
  }
 ],
 "metadata": {
  "kernelspec": {
   "display_name": "Python 3 (ipykernel)",
   "language": "python",
   "name": "python3"
  },
  "language_info": {
   "codemirror_mode": {
    "name": "ipython",
    "version": 3
   },
   "file_extension": ".py",
   "mimetype": "text/x-python",
   "name": "python",
   "nbconvert_exporter": "python",
   "pygments_lexer": "ipython3",
   "version": "3.9.7"
  }
 },
 "nbformat": 4,
 "nbformat_minor": 5
}
